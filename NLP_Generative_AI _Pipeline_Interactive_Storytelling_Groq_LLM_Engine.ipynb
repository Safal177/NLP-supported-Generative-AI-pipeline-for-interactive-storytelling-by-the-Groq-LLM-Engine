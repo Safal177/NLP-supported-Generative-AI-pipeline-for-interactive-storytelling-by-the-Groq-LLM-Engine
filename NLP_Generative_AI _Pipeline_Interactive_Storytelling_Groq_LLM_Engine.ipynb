{
 "cells": [
  {
   "cell_type": "code",
   "execution_count": null,
   "id": "4d99f1f4-10a7-43df-b9ba-28c68e1b1215",
   "metadata": {},
   "outputs": [],
   "source": []
  },
  {
   "cell_type": "markdown",
   "id": "a868751b-9b73-481c-b03f-e10434aa13aa",
   "metadata": {},
   "source": [
    "## Generative_Artificial_Intelligence_Interactive_Storytelling_Adventure_using_ChatGPT_or_Groq"
   ]
  },
  {
   "cell_type": "code",
   "execution_count": null,
   "id": "4827850d-cbff-449c-b33b-07b715946910",
   "metadata": {},
   "outputs": [],
   "source": []
  },
  {
   "cell_type": "code",
   "execution_count": null,
   "id": "ec571fb1-ae0a-4f1a-b9ab-7d29ba231152",
   "metadata": {},
   "outputs": [],
   "source": [
    "\"\"\"\n",
    "My project utilized the end-to-end real world business problem obtained from Course 8, MS AI Generative AI Literacy with Simplilearn. The \n",
    "goal of my work is to show my coding skills with understandable results using various problems under assigned under the project associated \n",
    "with this course. \n",
    "\"\"\""
   ]
  },
  {
   "cell_type": "code",
   "execution_count": null,
   "id": "2e5ea60b-497a-4788-a3fd-4615b669a365",
   "metadata": {},
   "outputs": [],
   "source": []
  },
  {
   "cell_type": "code",
   "execution_count": null,
   "id": "1cbf4486-8257-4bdb-bf8d-1f6a91e9f344",
   "metadata": {},
   "outputs": [],
   "source": [
    "\"\"\"\n",
    "Project Background\n",
    "\n",
    "Groq LLM engine (Large Language Models (LLMs) is used for creating interactive storytelling where storylines are created according to user \n",
    "input (text). This project shows step by step how generative AI including natural language generation methods can handle various situations to make\n",
    "conversing domains such as story development, interactive story paths, and choice oriented adventurers. \n",
    "\n",
    "Best part is without using traditional rule based storytelling environments, this project uses generative AI to make customizable and convincing \n",
    "storylines. With a good combination between the user and the AI model, unique storylines can be easily created. \n",
    "\n",
    "\"\"\""
   ]
  },
  {
   "cell_type": "code",
   "execution_count": null,
   "id": "13b60ea9-0b25-4e0c-b129-3052e9d9495b",
   "metadata": {},
   "outputs": [],
   "source": []
  },
  {
   "cell_type": "code",
   "execution_count": 1,
   "id": "44a663eb-09bf-458b-a2b1-fa682d83a918",
   "metadata": {},
   "outputs": [
    {
     "data": {
      "text/plain": [
       "'\\nCore Technologies:\\n\\n•\\tCoding language: Python,\\n•\\tWorkspace: Jupyter Notebook,\\n•\\tModel interface: Groq LLM engine (instead of ChatGPT),\\n•\\tLibraries applied: dataclasses, typing, uuid, dotenv, Groq api integrating with LLM,\\n•\\tArchitecture emphasis: NLP, LLM implementation, user/computer integration.\\n\\n'"
      ]
     },
     "execution_count": 1,
     "metadata": {},
     "output_type": "execute_result"
    }
   ],
   "source": [
    "\"\"\"\n",
    "Core Technologies:\n",
    "\n",
    "•\tCoding language: Python,\n",
    "•\tWorkspace: Jupyter Notebook,\n",
    "•\tModel interface: Groq LLM engine (instead of ChatGPT),\n",
    "•\tLibraries applied: dataclasses, typing, uuid, dotenv, Groq api integrating with LLM,\n",
    "•\tArchitecture emphasis: NLP, LLM implementation, user/computer integration.\n",
    "\n",
    "\"\"\""
   ]
  },
  {
   "cell_type": "code",
   "execution_count": null,
   "id": "a347e1d6-21c5-412f-8542-dfcc6ca3c20d",
   "metadata": {},
   "outputs": [],
   "source": []
  },
  {
   "cell_type": "code",
   "execution_count": null,
   "id": "e27160c8-df49-4617-a410-b67e6f52a7bd",
   "metadata": {},
   "outputs": [],
   "source": [
    "\"\"\"\n",
    "Project Objective:\n",
    "\n",
    "The key to this project is to make an AI based interactive storytelling pipeline which is used to create storylines between user and AI collaboration.\n",
    "Some objectives are:\n",
    "\n",
    "•\tMaking a platform in Python which is flexible for creating story. \n",
    "•\tUsing Grow’s LLM interface to generate story elements. \n",
    "•\tMultiple trajectories connected properly to get expected results from user text sequences.\n",
    "•\tClearly shown imaginative skills of generative AI with NLP based applications.  \n",
    "\n",
    "\"\"\""
   ]
  },
  {
   "cell_type": "code",
   "execution_count": null,
   "id": "d25e9f78-7fce-4174-8139-490e1c555ccd",
   "metadata": {},
   "outputs": [],
   "source": []
  },
  {
   "cell_type": "code",
   "execution_count": null,
   "id": "6fabb3f4-46a8-4f04-a54b-b59bad4c34e6",
   "metadata": {},
   "outputs": [],
   "source": [
    "\"\"\"\n",
    "Core Highlights:  \n",
    "\n",
    "•\tAdjustable story topics,\n",
    "•\tCharacter design,\n",
    "•\tBackground creation,\n",
    "•\tTwo-way talk between user and AI model,\n",
    "•\tMultiple routes used for getting goal-oriented results,\n",
    "•\tConfigurable module used for story rhythm\n",
    "\n",
    "\"\"\""
   ]
  },
  {
   "cell_type": "code",
   "execution_count": null,
   "id": "90030e6d-3250-4da2-a8aa-20161376cfdb",
   "metadata": {},
   "outputs": [],
   "source": []
  },
  {
   "cell_type": "markdown",
   "id": "f3d00e81-0081-4511-ba7c-017a25ba9d41",
   "metadata": {},
   "source": [
    "### Define the story theme: Choose a theme or genre for the storytelling adventure, such as fantasy, science fiction, mystery, or adventure"
   ]
  },
  {
   "cell_type": "code",
   "execution_count": 4,
   "id": "f1118502-414b-40bd-8295-440794ae121f",
   "metadata": {},
   "outputs": [],
   "source": []
  },
  {
   "cell_type": "markdown",
   "id": "355326bb-640e-4d7f-a5e4-5b6542cad236",
   "metadata": {},
   "source": [
    "### Make an interactive storytelling pipeline with Python only. "
   ]
  },
  {
   "cell_type": "code",
   "execution_count": 3,
   "id": "e4866741-a655-494d-83e7-486294b22622",
   "metadata": {},
   "outputs": [],
   "source": [
    "# applying for the Groq (engine) interface used to run the LLM offsite later. "
   ]
  },
  {
   "cell_type": "code",
   "execution_count": 14,
   "id": "15397210-9ede-4a11-953d-bc1dfe6ac827",
   "metadata": {},
   "outputs": [],
   "source": [
    "###### load Optional, List\n",
    "\n",
    "from typing import Optional, List\n",
    "\n",
    "\n",
    "selected_storylines = ['Urban Fantasy', 'Space Opera', 'Conspiracy', 'Pirate Adventure', 'Gothic Horror', 'Drama',\n",
    "                              'Cultural Legends' , 'Situational Comedy', 'Metafiction'] \n",
    "\n",
    "# define a function for storytelling applications\n",
    "\n",
    "def appoint_storyline (storyline:Optional[List[str]] = None, select_index: Optional[int] = None) -> str:\n",
    "    \n",
    "    # take strings or None for Optional[List[str]], and pick an int or None for Optional[int] # you get string (str) as output.\n",
    "    # give 2 options for storyline (when storyline has no value, you need to use a suppplied list for storyline\n",
    "    \n",
    "    storyline = storyline or selected_storylines  \n",
    "    \n",
    "    # Do I need to put index, check below.\n",
    "    if select_index is not None:     # you need to choose index. \n",
    "        if 0 <=select_index< len(storyline):    # you can get 0, 1, 2, 3, 4, 5, 6, 7, 8 for True . Note: False if select_index = -5, 10 etc\n",
    "            return storyline[select_index]   # if this (  0 <=select_index< len(storyline) works, you will get result. No further runs for \"else\".loop\n",
    "        else:\n",
    "            return storyline[1]  #  if 0 <=select_index< len(storyline) is not right, we do not want to break loop. \n",
    "\n",
    "    print(\"\\n\")\n",
    "    \n",
    "    print(\"please choose a topic from storyline associated with storytelling adventure.\")\n",
    "\n",
    "    print(\"\\n\")\n",
    "\n",
    "    # Like to see select_index with a topic in  storyline\n",
    "    for loop_number, storyline_member in enumerate(storyline, start = 1):\n",
    "        print(f\"index{loop_number} for {storyline_member}\")\n",
    "        \n",
    "    # you can either give your own number or take default value (1). Up to you. \n",
    "    input_loop_number = input(\"give a number or default ( 1 ):\")\n",
    "    if input_loop_number.strip() == \"\":     # e.g \"4/$\"  becomes 4, \"    \" becomes \"\"_firt = 1  #  take the first element\n",
    "        input_loop_number_first = 1          #  take the first element from storyline\n",
    "    else:\n",
    "        try:\n",
    "             input_loop_number_first = int(input_loop_number)   # change input_loop_number into an integer. . e.g  int(\"5\") = 5\n",
    "        except ValueError:     #  ValueError: e.g int(\"3.4\"), int(\"cd\"). # if this happens, \"try\" block stops and \"except\" block works\n",
    "            input_loop_number_first = 1      # do not break the loop.\n",
    "            \n",
    "    # take only allowed number\n",
    "    minimum_number = min(len(storyline), input_loop_number_first)   #  e.g. min(4, 8) = 4 \n",
    "    input_loop_number_first = max(1,  minimum_number)\n",
    "\n",
    "    print(\"\\n\")\n",
    "\n",
    "    # Python starts to be indexing from 0. \n",
    "    return storyline[input_loop_number_first - 1]\n"
   ]
  },
  {
   "cell_type": "code",
   "execution_count": 16,
   "id": "e23a4a59-ef34-4cab-aa2a-c4ef318ed5b9",
   "metadata": {},
   "outputs": [
    {
     "name": "stdout",
     "output_type": "stream",
     "text": [
      "Conspiracy\n",
      "Situational Comedy\n",
      "\n",
      "\n",
      "School Life\n",
      "\n",
      "\n",
      "result from wrong index: Space Opera\n",
      "\n",
      "\n",
      "\n",
      "\n",
      "please choose a topic from storyline associated with storytelling adventure.\n",
      "\n",
      "\n",
      "index1 for Urban Fantasy\n",
      "index2 for Space Opera\n",
      "index3 for Conspiracy\n",
      "index4 for Pirate Adventure\n",
      "index5 for Gothic Horror\n",
      "index6 for Drama\n",
      "index7 for Cultural Legends\n",
      "index8 for Situational Comedy\n",
      "index9 for Metafiction\n"
     ]
    },
    {
     "name": "stdin",
     "output_type": "stream",
     "text": [
      "give a number or default ( 1 ): 6\n"
     ]
    },
    {
     "name": "stdout",
     "output_type": "stream",
     "text": [
      "\n",
      "\n",
      "Drama\n"
     ]
    }
   ],
   "source": [
    "# check: can I get expected outputs from the above function (appoint_storyline)? If yes, I can move into the next steps. \n",
    "\n",
    "print(appoint_storyline(select_index = 2))   #  Conspiracy\n",
    "\n",
    "print(appoint_storyline(select_index = 7))   # 'Situational Comedy',\n",
    "\n",
    "print(\"\\n\")\n",
    "\n",
    "# optional checking\n",
    "# you can define your own  storyline and use the function\n",
    "own_storyline = [ \"Narrative Loop\", \"School Life\", \"Epic Biography\", \"Friendship Journey\"] \n",
    "print(appoint_storyline(storyline = own_storyline,  select_index = 1))   #  School Life\n",
    "\n",
    "print(\"\\n\")\n",
    "\n",
    "# see with wrong index\n",
    "print(  \"result from wrong index:\", appoint_storyline(select_index = 50))   #  Space Opera\n",
    "\n",
    "print(\"\\n\")\n",
    "\n",
    "print(appoint_storyline())\n"
   ]
  },
  {
   "cell_type": "code",
   "execution_count": null,
   "id": "3acea9b8-e702-4193-9f68-ff3bf20309d8",
   "metadata": {},
   "outputs": [],
   "source": []
  },
  {
   "cell_type": "markdown",
   "id": "a1357eca-7c08-4a0b-bcd4-fcab2600b5aa",
   "metadata": {},
   "source": [
    "### Introduce the main characters: Create character descriptions, including their names, personalities, and backgrounds\n"
   ]
  },
  {
   "cell_type": "code",
   "execution_count": null,
   "id": "f16d8424-0292-4a59-af9c-2f0d4f384a97",
   "metadata": {},
   "outputs": [],
   "source": []
  },
  {
   "cell_type": "code",
   "execution_count": 29,
   "id": "5cd4a0d8-c315-4673-913f-2de9fdb85138",
   "metadata": {},
   "outputs": [
    {
     "name": "stdin",
     "output_type": "stream",
     "text": [
      "Give character's name:\n",
      " David\n",
      "characters personality such as Brave, Kind, Honest, Generous, Optimistic:\n",
      " Kind\n",
      "characters background  such as Scholar, Alchemist, Engineer, Journalist, Writer, Explorer:\n",
      " Writer\n"
     ]
    },
    {
     "name": "stdout",
     "output_type": "stream",
     "text": [
      "main_characters(character_id='0be67add-841d-40f6-8e91-27665675a068', character_name='David', character_personality='Kind', character_background='Writer')\n"
     ]
    }
   ],
   "source": [
    "from dataclasses import dataclass, asdict\n",
    "from typing import Dict\n",
    "\n",
    "import uuid\n",
    "\n",
    "@dataclass  # it is required.   # Use this, you do not need to manually define any code for characters in this context. \n",
    "class main_characters:\n",
    "    character_id: str\n",
    "    character_name: str\n",
    "    character_personality: str\n",
    "    character_background: str\n",
    "    \n",
    "    def characters_dictionary(self) -> Dict[str, str]:      # Need to change characters into dictionary for future use\n",
    "        return asdict(self)\n",
    "        \n",
    "# from typing import DictWredefined value \n",
    "\n",
    "# define prompt related characters\n",
    "\n",
    "def prompt_related_characters() -> main_characters:\n",
    "    \n",
    "    # generate distinct id for each characer\n",
    "    character_id = str(uuid.uuid4())   #  uuid is universally unique identifier and uuid4 means uuid version 4. \n",
    "    \n",
    "    # give name\n",
    "    character_name = input(\"Give character's name:\\n\").strip() or \"No name\"       # choose name \n",
    "    \n",
    "    # Give character's personality and predefined personality is \"Unknown\"\n",
    "    character_personality = input(\"characters personality such as Brave, Kind, Honest, Generous, Optimistic:\\n\").strip() or \"Unknown\"\n",
    "    \n",
    "    # Give character's background and base background is \"Mysterious\"\n",
    "    character_background = input(\"characters background  such as Scholar, Alchemist, Engineer, Journalist, Writer, Explorer:\\n\").strip() or \"Mysterious\"\n",
    "   \n",
    "    # return occurrences from a character class defined above  \n",
    "    return main_characters(character_id = character_id, character_name = character_name, character_personality = character_personality, \n",
    "                           character_background = character_background)\n",
    "\n",
    "# are there expected outputs? \n",
    "if __name__ == '__main__':\n",
    "    prompt_related_character_test = prompt_related_characters()\n",
    "    print(prompt_related_character_test)\n",
    "\n"
   ]
  },
  {
   "cell_type": "code",
   "execution_count": null,
   "id": "5a6d3027-8ced-4f3f-a9d5-9fd99d2e61fb",
   "metadata": {},
   "outputs": [],
   "source": []
  },
  {
   "cell_type": "code",
   "execution_count": 33,
   "id": "4275d047-8270-4494-bc4d-09ada7ae7b16",
   "metadata": {},
   "outputs": [
    {
     "name": "stdout",
     "output_type": "stream",
     "text": [
      "{'character_id': '135789', 'character_name': 'Vincent Drake', 'character_personality': 'Generous', 'character_background': 'Journalist'}\n"
     ]
    }
   ],
   "source": [
    "# check\n",
    "\n",
    "'''\n",
    "How do I believe this function , characters_dictionary() working without using “ def prompt_related_characters() -> main_characters:”? \n",
    "Look at the example below.\n",
    "\n",
    "'''\n",
    "\n",
    "\n",
    "character = main_characters( character_id = \"135789\",  character_name = \"Vincent Drake\",  character_personality =  \"Generous\", \n",
    "                      character_background =  \"Journalist\") \n",
    "\n",
    "#from dataclasses import asdict\n",
    "\n",
    "# return dictionary as expected\n",
    "print(character.characters_dictionary())"
   ]
  },
  {
   "cell_type": "code",
   "execution_count": null,
   "id": "af8c94a8-acb3-4e5f-99bc-a78cc3f84b7e",
   "metadata": {},
   "outputs": [],
   "source": []
  },
  {
   "cell_type": "markdown",
   "id": "833647c2-5093-42f9-a9de-56d32901d610",
   "metadata": {},
   "source": [
    "### Begin the story: Set the scene and introduce a starting point to kickstart the story\n"
   ]
  },
  {
   "cell_type": "code",
   "execution_count": null,
   "id": "fa1883c2-0709-44f7-8b08-155bd7571e2d",
   "metadata": {},
   "outputs": [],
   "source": []
  },
  {
   "cell_type": "code",
   "execution_count": 42,
   "id": "81190589-71a2-431b-9598-cb787e3dbfda",
   "metadata": {},
   "outputs": [],
   "source": [
    "# load “field” to state default values associated with dataclass.  \n",
    "from dataclasses import field\n",
    "\n",
    "# state a story part\n",
    "\n",
    "@dataclass\n",
    "\n",
    "class Story_Block:         # define features, a set of items (story_id,  chapter, and  content) used in a field\n",
    "    story_id: str\n",
    "    chapter: str\n",
    "    content: str\n",
    "    '''\n",
    "    \n",
    "    # options as a dataclass field is in the dictionary (Dict) form which has keys: string and values: string\n",
    "    # A new blank dictionary creates for each record.\n",
    "    # Each Story_Block has an unique dictionary. \n",
    "\n",
    "    '''\n",
    "    \n",
    "    options: Dict[str, str] = field(default_factory =dict)  #  options = {} , # do not make this mistake , # careful from override any features \n",
    "    \n",
    "# Create the Story class\n",
    "class Story:\n",
    "    def __init__(self, chapter :str, idea:str):         #  initialize (__init__) a new story object.\n",
    "        self.chapter = chapter     # this is a story chapter\n",
    "        self.idea = idea           # this is a story idea\n",
    "        self.events: Dict[str,  Story_Block] = {}   # a list of events   #  dictionary[ story_id, values as Story_Block (occurrences)]\n",
    "        self.events_id_first: Optional[str] = None    # at the begining, there is no event and no id.  # get an id for the first event\n",
    "        \n",
    "    # Kickoff point for the story.\n",
    "    # this function (put_event) adds a new story block to the story class.  \n",
    "    def put_event(self, chapter: str, content: str) -> Story_Block: \n",
    "        story_id = str(uuid.uuid4())               #  Make a new id which does not match other id.\n",
    "        # give the id, chapter, and content for making a new Story_Block. \n",
    "        event = Story_Block( story_id = story_id, chapter = chapter,  content =  content)\n",
    "        self.events[story_id] = event             #  this line code puts an event into the story's dictionary.  # # story_id as the key.\n",
    "        if self.events_id_first is None:          # This happens at the first time. \n",
    "            self.events_id_first =  story_id       # This is for the first event id. \n",
    "        return event                              #  return the Story_Block\n",
    "        \n",
    "   \n",
    "    \n",
    "    # In the two-way mode, we need to connect moments to Story_Block through Story_Block_Connect.\n",
    "    # define Story_Block_Connect with 3 parameters \n",
    "\n",
    "    # state a method ( Story_Block_Connect) having 3 parameters and connects to “story_start” sends back nothing. \n",
    "    \n",
    "    # connect one story block to another \n",
    "    def story_block_connect(self, start_story_id: str, new_content: str, new_story_id: str) -> None:\n",
    "        if new_story_id not in self.events:      #  get error message if yes\n",
    "            raise KeyError(f'there is no {new_story_id}.')\n",
    "        if start_story_id not in self.events:\n",
    "            raise KeyError(f'there is no {start_story_id}.')\n",
    "        # keep option record\n",
    "        self.events[start_story_id].options[new_content] =  new_story_id\n"
   ]
  },
  {
   "cell_type": "code",
   "execution_count": 44,
   "id": "75c44d62-1655-4a6a-9ad7-0172fa016d9f",
   "metadata": {},
   "outputs": [
    {
     "name": "stdout",
     "output_type": "stream",
     "text": [
      "{'in a forest': 'f521e37a-a965-4983-891a-058011be37cb'}\n"
     ]
    }
   ],
   "source": [
    "# check whether story object works. \n",
    "\n",
    "# make a story object\n",
    "story = Story(chapter = \"Vanishing Point\", idea = \"A detective’s race with respect to time\")\n",
    "\n",
    "# Add two story blocks\n",
    "first_event = story.put_event('chapter # 1', 'You are within a forest.')\n",
    "\n",
    "second_event = story.put_event('chapter # 2', 'Exploring an unseen island')\n",
    "\n",
    "# Add an option that connects 2 blocks\n",
    "story.story_block_connect(first_event.story_id, 'in a forest', second_event.story_id)\n",
    "\n",
    "# final content\n",
    "print(story.events[first_event.story_id].options)\n",
    "\n",
    "             "
   ]
  },
  {
   "cell_type": "code",
   "execution_count": null,
   "id": "dabfcbac-7006-472b-afc0-519866a51b52",
   "metadata": {},
   "outputs": [],
   "source": []
  },
  {
   "cell_type": "code",
   "execution_count": 46,
   "id": "e35ccda4-5e73-4991-acb0-5af5509b6585",
   "metadata": {},
   "outputs": [
    {
     "name": "stdout",
     "output_type": "stream",
     "text": [
      "story chapter: Graviton Quest\n",
      "\n",
      "idea: Finding forces in a advanced world\n",
      "\n",
      "Chapter 1: Zero Gravity Room\n",
      "\n",
      "When You go into a chamber, you can feel an unknow machine provides a wave and then you can feel that you are going up.\n"
     ]
    }
   ],
   "source": [
    "# now start to make our story\n",
    "\n",
    "if __name__ == '__main__':            # This block runs purely when the code file is launched without import. \n",
    "    story_start = Story(chapter = 'Graviton Quest', idea = 'Finding forces in a advanced world')  # Make a story using the story class defined above\n",
    "    \n",
    "    # start story\n",
    "    first_story = story_start.put_event(\n",
    "        chapter = 'Chapter 1: Zero Gravity Room',\n",
    "        content = 'When You go into a chamber, you can feel an unknow machine provides a wave and then you can feel that you are going up.'\n",
    "        \n",
    "    )\n",
    "\n",
    "    # check outputs\n",
    "    \n",
    "    print(f'story chapter: {story_start.chapter }')\n",
    "    print()\n",
    "    \n",
    "    print(f'idea: {story_start.idea }')\n",
    "    print()\n",
    "    \n",
    "    print( first_story.chapter)\n",
    "    print()\n",
    "\n",
    "    print( first_story.content)\n",
    "    "
   ]
  },
  {
   "cell_type": "code",
   "execution_count": null,
   "id": "2eebdf32-9137-4359-beb0-ed77f9bbb282",
   "metadata": {},
   "outputs": [],
   "source": []
  },
  {
   "cell_type": "markdown",
   "id": "f1041a79-509f-49e8-b280-94c7c1b98451",
   "metadata": {},
   "source": [
    "### Participant input: Pose questions or describe the actions of their chosen characters "
   ]
  },
  {
   "cell_type": "code",
   "execution_count": 68,
   "id": "de0a5aca-954c-4b10-aa35-e24f4ff0eb8d",
   "metadata": {},
   "outputs": [],
   "source": [
    "# state a function used for Story class.\n",
    "# This function communicates with the Story for questioning. \n",
    "\n",
    "def story_questions(self):\n",
    "    ''' do questions for making a story. '''\n",
    "    \n",
    "    # check story starting point.\n",
    "    # Check: is there any events stored? \n",
    "    # is there already self.events_id_first (id)?\n",
    "    if not self.events_id_first:\n",
    "        print('we could not finnd self.events_id_first.')\n",
    "        return\n",
    "\n",
    "    # from here, story_block starts. \n",
    "    new_event_id = self.events_id_first       #  first event\n",
    "    print(f'chapter: {self.chapter}:')\n",
    "    print()\n",
    "    print(f'idea: {self.idea}:')\n",
    "    \n",
    "    while True:                                     #  go into the story blocks through an infinite while loop.\n",
    "        event = self.events[new_event_id]           #  reflecting the present story block\n",
    "        print(f'Content: {event.content}')\n",
    "\n",
    "        if not event.options:                      # Check options in the current block \n",
    "            print(\"Let’s stop conversation:+\")\n",
    "            break   # stop while loop               # No option, loop does not work anymore. \n",
    "            \n",
    "        # Lets' do somethings here\n",
    "        # Show numbered options\n",
    "        print(\" Lets' do somethings here.\")\n",
    "        \n",
    "        # we need to continue this loop until getting our goal\n",
    "        print(' we need to continue this loop until getting our goal:')\n",
    "        \n",
    "        keys_list = list(event.options.keys())    #  Make a list of keys from the dictionary \n",
    "        print(' keys list:', keys_list)\n",
    "        \n",
    "        for n, pick_content in enumerate( keys_list, start =  1):\n",
    "            print(f'number {n}, pick_content:')\n",
    "            option = input('please provide your option number').strip()\n",
    "            \n",
    "        option_keys = list(event.options.keys())\n",
    "        \n",
    "        for idex, option_text in enumerate( keys_list, start=1):\n",
    "            print(f'{idex}: {option_text}')\n",
    "            \n",
    "        if not  option.isdigit() or int(option) not in range(n, len(event.options) + 1):\n",
    "            print(f' This is not expectated option. We need to rework on it.')\n",
    "            continue\n",
    "            \n",
    "        # Move to the another  event\n",
    "        new_event_id = event.options[option_keys[int(option)-1]]\n",
    "        print('go to the another eventn')\n",
    "\n",
    "            \n"
   ]
  },
  {
   "cell_type": "code",
   "execution_count": 70,
   "id": "6b94b2d9-36be-4113-9841-3ade62a17633",
   "metadata": {},
   "outputs": [
    {
     "name": "stdout",
     "output_type": "stream",
     "text": [
      "{'inside a forest': '9c9f9b89-7c30-4c11-b492-1a63b14123ae'}\n",
      "chapter: Vanishing Point:\n",
      "\n",
      "idea: A detective’s race with respect to time:\n",
      "Content: You are within a forest.\n",
      " Lets' do somethings here.\n",
      " we need to continue this loop until getting our goal:\n",
      " keys list: ['inside a forest']\n",
      "number 1, pick_content:\n"
     ]
    },
    {
     "name": "stdin",
     "output_type": "stream",
     "text": [
      "please provide your option number 1\n"
     ]
    },
    {
     "name": "stdout",
     "output_type": "stream",
     "text": [
      "1: inside a forest\n",
      "go to the another eventn\n",
      "Content: Exploring an unseen island\n",
      "Let’s stop conversation:+\n"
     ]
    }
   ],
   "source": [
    "# # check whether story object works. \n",
    "\n",
    "# make a story object\n",
    "story = Story(chapter = 'Vanishing Point', idea = \"A detective’s race with respect to time\")\n",
    "\n",
    "# Add two story blocks\n",
    "first_event = story.put_event('chapter # 1', 'You are within a forest.')\n",
    "\n",
    "second_event = story.put_event('chapter # 2', 'Exploring an unseen island')\n",
    "\n",
    "# Add an option that connects 2 blocks\n",
    "story.story_block_connect(first_event.story_id, 'inside a forest', second_event.story_id)\n",
    "\n",
    "# final content\n",
    "print(story.events[first_event.story_id].options)\n",
    "\n",
    "story.story_questions = story_questions.__get__(story)\n",
    "\n",
    "story.story_questions()\n"
   ]
  },
  {
   "cell_type": "code",
   "execution_count": null,
   "id": "9155f14b-c8ca-4602-874d-9728f720248d",
   "metadata": {},
   "outputs": [],
   "source": []
  },
  {
   "cell_type": "markdown",
   "id": "a0547f64-5e0a-49de-a57a-c8d0b0fc7e1d",
   "metadata": {},
   "source": [
    "### AI-generated responses:  a. Utilize ChatGPT (or Groq (engine) ) to provide narrative responses based on your inputs , b. Expand the story and advance the plot based on your ideas "
   ]
  },
  {
   "cell_type": "code",
   "execution_count": 46,
   "id": "0875e00e-bedd-476c-a0d3-522ee23974d5",
   "metadata": {},
   "outputs": [],
   "source": [
    "# applying the Groq (engine) interface to run the LLM instead of  ChatGPT.  "
   ]
  },
  {
   "cell_type": "code",
   "execution_count": null,
   "id": "2da8dc67-917e-43b5-8bce-5ee08a8a2652",
   "metadata": {},
   "outputs": [],
   "source": []
  },
  {
   "cell_type": "code",
   "execution_count": 79,
   "id": "4696cb77-6c2e-4771-ba36-0b7a7abac037",
   "metadata": {},
   "outputs": [
    {
     "name": "stdout",
     "output_type": "stream",
     "text": [
      "check the api_key status:\n",
      " True\n"
     ]
    }
   ],
   "source": [
    "import os    #  interfacing with variables used in system environment.\n",
    "\n",
    "from dotenv import load_dotenv        #  “dotenv” loads all variables used in .env file.\n",
    "\n",
    "load_dotenv()                         #  The current environment has the .env file.\n",
    "\n",
    "api_key = os.getenv('GROQ_API_KEY')    #  It reads the “GROQ_API_KEY\". \n",
    "\n",
    "print('check the api_key status:\\n', bool(api_key))"
   ]
  },
  {
   "cell_type": "code",
   "execution_count": 81,
   "id": "92a12ecb-7b2d-42ff-8f19-64cbe9513252",
   "metadata": {},
   "outputs": [
    {
     "data": {
      "text/plain": [
       "'\\nobjective is to be using ChatGPT (or any AI model such as Groq’s text generation model) to get results from my questions. \\n\\nHere, I am doing more research than expected for handling text using a model. \\n\\n'"
      ]
     },
     "execution_count": 81,
     "metadata": {},
     "output_type": "execute_result"
    }
   ],
   "source": [
    "\"\"\"\n",
    "objective is to be using ChatGPT (or any AI model such as Groq’s text generation model) to get results from my questions. \n",
    "\n",
    "Here, I am doing more research than expected for handling text using a model. \n",
    "\n",
    "\"\"\""
   ]
  },
  {
   "cell_type": "code",
   "execution_count": 83,
   "id": "e6067545-b334-40e4-a7d9-24dd1c74138c",
   "metadata": {},
   "outputs": [
    {
     "name": "stdout",
     "output_type": "stream",
     "text": [
      "model number 1: llama-3.3-70b-versatile\n",
      "model number 2: whisper-large-v3-turbo\n",
      "model number 3: meta-llama/llama-prompt-guard-2-86m\n",
      "model number 4: llama-3.1-8b-instant\n",
      "model number 5: playai-tts-arabic\n",
      "model number 6: whisper-large-v3\n",
      "model number 7: moonshotai/kimi-k2-instruct-0905\n",
      "model number 8: groq/compound\n",
      "model number 9: meta-llama/llama-4-scout-17b-16e-instruct\n",
      "model number 10: meta-llama/llama-prompt-guard-2-22m\n",
      "model number 11: meta-llama/llama-guard-4-12b\n",
      "model number 12: allam-2-7b\n",
      "model number 13: playai-tts\n",
      "model number 14: openai/gpt-oss-120b\n",
      "model number 15: meta-llama/llama-4-maverick-17b-128e-instruct\n",
      "model number 16: groq/compound-mini\n",
      "model number 17: openai/gpt-oss-20b\n",
      "model number 18: moonshotai/kimi-k2-instruct\n",
      "model number 19: qwen/qwen3-32b\n"
     ]
    }
   ],
   "source": [
    "# load Groq\n",
    "from groq import Groq\n",
    "\n",
    "# Start the session (Groq API)\n",
    "session = Groq(api_key = os.getenv('GROQ_API_KEY'))\n",
    "\n",
    "# find all possible models\n",
    "list_possible_models = session.models.list().data\n",
    "\n",
    "# list all models using “for loop”\n",
    "for n, model in enumerate(list_possible_models, start = 1):\n",
    "    print(f'model number {n}: {model.id}')\n"
   ]
  },
  {
   "cell_type": "code",
   "execution_count": 85,
   "id": "a03aab84-9b6e-43c3-b7a6-8fecdcc77a10",
   "metadata": {},
   "outputs": [
    {
     "name": "stdout",
     "output_type": "stream",
     "text": [
      " 1: llama-3.3-70b-versatile\n",
      " 3: meta-llama/llama-prompt-guard-2-86m\n",
      " 4: llama-3.1-8b-instant\n",
      " 9: meta-llama/llama-4-scout-17b-16e-instruct\n",
      " 10: meta-llama/llama-prompt-guard-2-22m\n",
      " 11: meta-llama/llama-guard-4-12b\n",
      " 15: meta-llama/llama-4-maverick-17b-128e-instruct\n"
     ]
    }
   ],
   "source": [
    "# Collect all models useful for chat or text generation. \n",
    "for n, model in enumerate(list_possible_models, start = 1):\n",
    "    if 'llama' in model.id.lower() or 'mixtrail' in model.id.lower() or 'chat' in model.id.lower():\n",
    "        print(f' {n}: {model.id}')"
   ]
  },
  {
   "cell_type": "code",
   "execution_count": 87,
   "id": "47918c35-538c-4fd3-826e-cf3d8a08d8d0",
   "metadata": {},
   "outputs": [
    {
     "name": "stdout",
     "output_type": "stream",
     "text": [
      "['llama-3.3-70b-versatile', 'meta-llama/llama-prompt-guard-2-86m', 'llama-3.1-8b-instant', 'meta-llama/llama-4-scout-17b-16e-instruct', 'meta-llama/llama-prompt-guard-2-22m', 'meta-llama/llama-guard-4-12b', 'meta-llama/llama-4-maverick-17b-128e-instruct']\n",
      "\n",
      "7\n"
     ]
    }
   ],
   "source": [
    "# Make a list of all the useful models for chat and text generation. \n",
    "\n",
    "# I am not sure if all models are for a chat or text generation. However, I need to try it. \n",
    "\n",
    "models_chat_text = [model.id for model in list_possible_models if 'llama' in model.id.lower() or 'mixtrail' in model.id.lower() \n",
    "                    or 'chat' in model.id.lower()]\n",
    "\n",
    "print(models_chat_text)\n",
    "\n",
    "print()\n",
    "\n",
    "print(len(models_chat_text))"
   ]
  },
  {
   "cell_type": "code",
   "execution_count": 89,
   "id": "06c20aa2-3418-4540-98d4-1ac5acfd9c5c",
   "metadata": {},
   "outputs": [
    {
     "name": "stdout",
     "output_type": "stream",
     "text": [
      "first model: llama-3.3-70b-versatile\n"
     ]
    }
   ],
   "source": [
    "# Check any model available or not \n",
    "if not models_chat_text:\n",
    "    raise RuntimeError('I could not find any chat and text models')\n",
    "\n",
    "# Take the first model\n",
    "take_a_model = models_chat_text[0]    #  firstmodel\n",
    "print('first model:', take_a_model)\n"
   ]
  },
  {
   "cell_type": "code",
   "execution_count": null,
   "id": "7fcb76c4-6e81-4612-8e18-5713abc192d4",
   "metadata": {},
   "outputs": [],
   "source": []
  },
  {
   "cell_type": "code",
   "execution_count": 91,
   "id": "e37c3b55-7deb-461d-a177-ccc762051c02",
   "metadata": {},
   "outputs": [
    {
     "name": "stdout",
     "output_type": "stream",
     "text": [
      "LLM generated documments:\n",
      " In the heart of a dense, primeval forest, hidden from the prying eyes of the outside world, lay the fabled Crystal Cave. This mystical place was whispered about in hushed tones around flickering campfires and in the musty, dimly lit corridors of ancient libraries. The cave was said to be a realm where the very fabric of reality was woven with the essence of crystals, imbuing the air with an otherworldly energy. Its entrance, guarded by ancient trees that seemed to stretch their branches like protective arms, remained a secret known only to a select few.\n",
      "\n",
      "The journey to the Crystal Cave was an adventure in itself, a test of resolve and courage for those who dared to seek it out. The path was overgrown with vines and shrubs, and the canopy above was so dense that sunlight barely filtered through, casting the forest floor in a soft, emerald green gloom. The air was filled with the songs of exotic birds and the soft rustle of leaves as unknown creatures flitted about, unseen.\n",
      "\n",
      "One day, a young adventurer named Eli, driven by an insatiable curiosity and thirst for the unknown, set out to find the Crystal Cave. With a backpack full of supplies and a heart full of wonder, Eli ventured into the forest. The journey was arduous, with steep inclines and rapid descents, but the promise of the cave kept Eli's spirits high. Days turned into weeks, and just when the dense foliage seemed impassable, the trees parted, revealing the cave's imposing entrance.\n",
      "\n",
      "The entrance to the Crystal Cave was an enormous, yawning mouth in the side of a hill, its opening framed by glittering crystals that reflected every color of the rainbow. As Eli stepped across the threshold, the air inside enveloped them like a cool, soothing balm, rich with the scent of damp earth and minerals. The cave was vast, with ceilings that disappeared into darkness, and walls that shimmered and glimmered with crystalline structures.\n",
      "\n",
      "Eli's footsteps echoed through the cave as they wandered deeper, the crystals around them beginning to glow softly, illuminating the path ahead. The deeper they ventured, the more breathtaking the formations became. There were crystals that seemed to grow like sentinels from the floor, their points reaching towards the ceiling like shards of glass. Others formed pools of glittering, crystalline water, their surfaces reflecting the glow of the cave like mirrors.\n",
      "\n",
      "As Eli explored the cave, they stumbled upon ancient ruins hidden within its depths. Crumbling structures, covered in moss and lichen, hinted at a civilization long forgotten. Among these ruins, Eli found artifacts that told the story of a people who had revered the Crystal Cave as a sacred place, a gateway to other realms and dimensions. The crystals, they had believed, held the key to understanding the universe and the mysteries of life and death.\n",
      "\n",
      "However, Eli soon realized that they were not alone in the cave. Shadows darted at the edges of their vision, and the sound of soft chanting seemed to emanate from the crystals themselves. It became clear that the Crystal Cave was more than just a natural wonder; it was a nexus of mystical energy, a place where the veil between worlds was at its thinnest.\n",
      "\n",
      "Determined to uncover the secrets of the cave, Eli pressed on, facing challenges that tested their courage and wits. They navigated through labyrinths of glittering tunnels, solved ancient puzzles that unlocked hidden chambers\n"
     ]
    }
   ],
   "source": [
    "# Define a function to work on story with Groq\n",
    "\n",
    "def groq_story(asking_questions: str) -> str:\n",
    "    groq_conversation = session.chat.completions.create(\n",
    "        model = take_a_model,\n",
    "        messages = [{'role':'system', 'content': 'You are an AI Engineer. You can clearly answering my questions.'},\n",
    "            {'role': 'user', 'content': asking_questions}\n",
    "                   ],\n",
    "        temperature = 0.95,\n",
    "        max_tokens = 700,\n",
    "    )\n",
    "    return groq_conversation.choices[0].message.content.strip()\n",
    "\n",
    "if __name__ ==  '__main__':\n",
    "    asking_questions = asking_questions = (\n",
    "    'You are a good storyteller.'\n",
    "    'Please write a detailed story about a crystal cave,'\n",
    "    'you can include vivid descriptions, diverse mystery elements, and various adventurous which we can take in our life..'\n",
    ")\n",
    "\n",
    "    ai_generated_documments = groq_story(asking_questions)\n",
    "    print('LLM generated documments:\\n', ai_generated_documments)"
   ]
  },
  {
   "cell_type": "code",
   "execution_count": null,
   "id": "fbd9f67f-ba9d-4c8a-b62f-37234f8baf42",
   "metadata": {},
   "outputs": [],
   "source": []
  },
  {
   "cell_type": "code",
   "execution_count": null,
   "id": "dd381ac3-54d2-40ee-81f1-167fe0f2d3a6",
   "metadata": {},
   "outputs": [],
   "source": [
    "\"\"\"\n",
    "more work for better understanding this problem. see below\n",
    "\n",
    "\"\"\""
   ]
  },
  {
   "cell_type": "code",
   "execution_count": 93,
   "id": "c5f380ab-ae50-4026-a2a3-6b4b34ac3cf5",
   "metadata": {},
   "outputs": [
    {
     "name": "stdout",
     "output_type": "stream",
     "text": [
      "['llama-3.3-70b-versatile', 'meta-llama/llama-prompt-guard-2-86m', 'llama-3.1-8b-instant', 'meta-llama/llama-4-scout-17b-16e-instruct', 'meta-llama/llama-prompt-guard-2-22m', 'meta-llama/llama-guard-4-12b', 'meta-llama/llama-4-maverick-17b-128e-instruct', 'qwen/qwen3-32b']\n",
      "8\n"
     ]
    }
   ],
   "source": [
    "\n",
    "# Make a list of all the useful models for chat and text generation. \n",
    " \n",
    "models_chat_text_all = [model.id for model in list_possible_models if 'llama' in model.id.lower() or 'qwen' in model.id.lower() \n",
    "                    or 'chat' in model.id.lower()]\n",
    "\n",
    "print(models_chat_text_all)\n",
    "\n",
    "print(len(models_chat_text_all))\n",
    "\n",
    "# note: 'qwen' in model.id.lower()  considers chat as well as text recognized models \n",
    "\n"
   ]
  },
  {
   "cell_type": "code",
   "execution_count": 95,
   "id": "3c10a459-8eb8-420c-ab93-9ac483d57f8e",
   "metadata": {},
   "outputs": [
    {
     "name": "stdout",
     "output_type": "stream",
     "text": [
      "first model: llama-3.3-70b-versatile\n"
     ]
    }
   ],
   "source": [
    "# Check any model available or not \n",
    "if not models_chat_text_all:\n",
    "    raise RuntimeError(\"I could not find any chat and text models\")\n",
    "\n",
    "# Take the first model\n",
    "take_a_model = models_chat_text_all[0]    \n",
    "print(\"first model:\", take_a_model)"
   ]
  },
  {
   "cell_type": "code",
   "execution_count": 97,
   "id": "a89da33f-bbab-4fdb-b151-66589a9e17ee",
   "metadata": {},
   "outputs": [
    {
     "name": "stdout",
     "output_type": "stream",
     "text": [
      "LLM generated documments:\n",
      " In the heart of a dense, emerald forest, hidden behind a cascading waterfall, lay the entrance to the mystical Crystal Cave. The cave's existence had been whispered about in hushed tones among the villagers for generations, with tales of its breathtaking beauty and unexplained phenomena drawing in brave adventurers and curious souls alike. The journey to the cave was not for the faint of heart; it required navigating through the treacherous forest, crossing rushing streams, and climbing steep, moss-covered boulders. But for those who dared to venture into the unknown, the Crystal Cave promised an experience like no other.\n",
      "\n",
      "As one approached the cave, the sound of the waterfall grew louder, and the air filled with a fine, cool mist. The entrance, a large, yawning mouth in the side of the mountain, was guarded by two towering pillars of stone, their surfaces etched with ancient runes that seemed to shimmer and glow in the fading light of day. The air around the entrance pulsed with an otherworldly energy, as if the cave itself were alive, watching and waiting for the next brave soul to step into its depths.\n",
      "\n",
      "Once inside, the cave revealed its first marvel: a vast, crystalline chamber filled with towering formations that refracted and reflected the light of flickering torches, casting a kaleidoscope of colors across the walls and floor. The crystals, some of which reached as high as a hundred feet into the darkness above, sang a gentle, ethereal melody, their facets vibrating with an energy that seemed both ancient and timeless. The sound was hypnotic, drawing explorers deeper into the cave, further into the mystery that lay within.\n",
      "\n",
      "As adventurers made their way through the winding tunnels and caverns, they encountered an array of mysterious elements, each more intriguing than the last. There were pools of water that seemed to defy gravity, floating in mid-air without any visible means of support, and walls that appeared to shift and change color, as if the very rock itself were alive and responding to the presence of visitors. In some areas, the air was filled with a soft, luminescent glow, emanating from tiny, iridescent creatures that flitted about, lighting the way for those who sought to uncover the secrets of the cave.\n",
      "\n",
      "One of the most enigmatic features of the Crystal Cave was the Mirror of the Ancients, a vast, crystal surface that reflected not the physical appearance of those who stood before it, but the deepest desires and fears of their hearts. Many who approached the mirror were met with visions of their past and future, cryptic messages that only they could decipher. The mirror was said to hold the power to reveal hidden truths and guide those who sought wisdom, but it was also rumored to be a test, a challenge to confront the darkest corners of one's own soul.\n",
      "\n",
      "Beyond the Mirror of the Ancients lay the Labyrinth of Reflections, a maze of twisting corridors and dark, silent chambers, where the walls seemed\n"
     ]
    }
   ],
   "source": [
    "# Define a function to work on story with Groq\n",
    "\n",
    "def groq_story(asking_questions: str) -> str:\n",
    "    groq_conversation = session.chat.completions.create(\n",
    "        model = take_a_model,\n",
    "        messages = [{'role':'system', 'content': 'You are an AI Engineer. You can clearly answering my questions.'},\n",
    "            {'role': 'user', 'content': asking_questions}\n",
    "                   ],\n",
    "        temperature = 0.75,\n",
    "        max_tokens = 600,\n",
    "    )\n",
    "    return groq_conversation.choices[0].message.content.strip()\n",
    "\n",
    "if __name__ ==  '__main__':\n",
    "    asking_questions = asking_questions = (\n",
    "    'You are a good storyteller.'\n",
    "    'Please write a detailed story about a crystal cave,'\n",
    "    'you can include vivid descriptions, diverse mystery elements, and various adventurous which we can take in our life..'\n",
    ")\n",
    "\n",
    "    ai_generated_documments = groq_story(asking_questions)\n",
    "    print('LLM generated documments:\\n', ai_generated_documments)"
   ]
  },
  {
   "cell_type": "code",
   "execution_count": null,
   "id": "b11b66c8-fe5d-4fc4-ae14-06cc94d34d5e",
   "metadata": {},
   "outputs": [],
   "source": []
  },
  {
   "cell_type": "markdown",
   "id": "caf7fe23-95f1-43a8-8b86-64ffab36cf89",
   "metadata": {},
   "source": [
    "### Decision-making and branching paths: a. Prompt to make decisions or pose choices within the story b. Use Groq responses to guide your next steps, leading to different story paths and outcomes"
   ]
  },
  {
   "cell_type": "code",
   "execution_count": null,
   "id": "4f861fdb-8029-4433-9a55-33233be840f4",
   "metadata": {},
   "outputs": [],
   "source": []
  },
  {
   "cell_type": "code",
   "execution_count": null,
   "id": "7d552246-cf5b-4143-aa49-6918e8731500",
   "metadata": {},
   "outputs": [],
   "source": [
    "\"\"\"\n",
    "Goals: make a story, extend it with Groq, and include new events.\n",
    "\n",
    "\"\"\""
   ]
  },
  {
   "cell_type": "code",
   "execution_count": null,
   "id": "913afa53-1544-49be-ac00-913abb31af33",
   "metadata": {},
   "outputs": [],
   "source": []
  },
  {
   "cell_type": "code",
   "execution_count": 99,
   "id": "7b89b4e4-6d70-412b-8e39-0ce600b213f0",
   "metadata": {},
   "outputs": [],
   "source": [
    "\n",
    "# state a story part\n",
    "\n",
    "@dataclass\n",
    "\n",
    "# define Story_Block       # same as previsously defined  function as Story_Block\n",
    "class Story_Block:         # define features, a set of items (story_id,  chapter, and  content) used in a field\n",
    "    story_id: str\n",
    "    chapter: str\n",
    "    content: str    \n",
    "    options: Dict[str, str] = field(default_factory =dict) \n",
    "\n",
    "# Create the Story class\n",
    "class Story:\n",
    "    def __init__(self):          #  do not put any parameters \n",
    "        self.chapter: Optional[str] = None       # this is a story chapter\n",
    "        self.idea: Optional[str] = None         # this is a story idea\n",
    "        self.events: Dict[str,  Story_Block] = {}   # a list of events   #  dictionary[ story_id, values as Story_Block (occurrences)]\n",
    "        self.events_id_first: Optional[str] = None    # at the begining, there is no event and no id.  # get an id for the first event\n",
    "        \n",
    "    # Kickoff point for the story.\n",
    "    # this function (put_event) adds a new story block to the story class.  \n",
    "    def put_event(self, chapter: str, content: str) -> Story_Block: \n",
    "        story_id = str(uuid.uuid4())               #  Make a new id which does not match other id.\n",
    "        # give the id, chapter, and content for making a new Story_Block. \n",
    "        event = Story_Block( story_id = story_id, chapter = chapter,  content =  content)\n",
    "        self.events[story_id] = event             #  this line code puts an event into the story's dictionary.  # # story_id as the key.\n",
    "        if self.events_id_first is None:          # This happens at the first time. \n",
    "            self.events_id_first =  story_id       # This is for the first event id. \n",
    "        return event                              #  return the Story_Block\n",
    "        \n",
    "    # In the two-way mode, we need to connect moments to Story_Block through Story_Block_Connect.\n",
    "    # define Story_Block_Connect with 3 parameters \n",
    "\n",
    "    # state a method ( Story_Block_Connect) having 3 parameters and connects to “story_start” sends back nothing. \n",
    "    \n",
    "    # connect one story block to another \n",
    "    def story_block_connect(self, start_story_id: str, new_content: str, new_story_id: str):\n",
    "        if new_story_id not in self.events:      #  get error message if yes\n",
    "            raise KeyError(f'there is no {new_story_id}.')\n",
    "        if start_story_id not in self.events:\n",
    "            raise KeyError(f'there is no {start_story_id}.')\n",
    "        # keep option record\n",
    "        self.events[start_story_id].options[new_content] =  new_story_id\n",
    "\n",
    "# Define a function to work on story with Groq\n",
    "\n",
    "def groq_expand_story(asking_questions: str) -> str:\n",
    "    groq_conversation = session.chat.completions.create(\n",
    "        model = take_a_model,\n",
    "        messages = [{'role': 'system', 'content': 'You are an AI Engineer. You can clearly answering my questions.'},\n",
    "            {'role': 'user', 'content': asking_questions}\n",
    "                   ],\n",
    "        temperature = 0.8,\n",
    "        max_tokens = 400,\n",
    "    )\n",
    "    return groq_conversation.choices[0].message.content.strip()\n",
    "        "
   ]
  },
  {
   "cell_type": "code",
   "execution_count": 101,
   "id": "a2234bdd-87ca-4423-8648-151a69acbd03",
   "metadata": {},
   "outputs": [],
   "source": [
    "def user_driven_story(story: Story):\n",
    "    if not story.events_id_first:\n",
    "        print('I could not find the first story event. ')\n",
    "        return\n",
    "\n",
    "    new_event_id = story.events_id_first  # story is starting with the first event.\n",
    "\n",
    "    while True:\n",
    "        event = story.events[new_event_id]\n",
    "        \n",
    "        # below print is necessary.\n",
    "        \n",
    "        # see the chapter involved in the current event. \n",
    "        print(f'Chapter: {event.chapter}')\n",
    "        \n",
    "        # see the text in the event\n",
    "        print(event.content)\n",
    "\n",
    "        if event.options:\n",
    "            print()    \n",
    "            for index, option in enumerate(event.options.keys(), 1):\n",
    "                print(f\"{index}. {option}\")\n",
    "\n",
    "        \n",
    "        agent_input = input('You have three options: choose a number, write your text, or press Enter to exit: ').strip()\n",
    "        \n",
    "        if not agent_input:\n",
    "            print('Ending the story.')\n",
    "            break\n",
    "\n",
    "        if agent_input.isdigit():  # Numbered choice\n",
    "            choice_number = int(agent_input)\n",
    "            if choice_number not in range(1, len(event.options)+1):\n",
    "                print('Your number is not the right one.  Please choose another number.')\n",
    "                continue\n",
    "            new_event_id = list(event.options.values())[choice_number - 1]\n",
    "\n",
    "        else:  # Free-text action\n",
    "            participant_do = agent_input\n",
    "            # continue the story with LLM\n",
    "            text_groq = groq_expand_story(f'{event.content}, {participant_do}')  # Get the text from Groq LLM\n",
    "            \n",
    "            # Make a new story (new_event) with the chapter name (Result_one) \n",
    "            new_event = story.put_event(chapter=f'{event.chapter} -Result_one', content=text_groq)\n",
    "            \n",
    "            # Do connection between the current id (`event.story_id`) to the new id (`new_event.story_id`) \n",
    "            story.story_block_connect(event.story_id, participant_do, new_event.story_id)\n",
    "            \n",
    "            # Update id in the new story block.\n",
    "            new_event_id = new_event.story_id\n"
   ]
  },
  {
   "cell_type": "code",
   "execution_count": 103,
   "id": "6585e3d6-fc20-41c9-93fc-7162607d83cc",
   "metadata": {},
   "outputs": [
    {
     "name": "stdout",
     "output_type": "stream",
     "text": [
      "Chapter: chapter # 1\n",
      "You are within a forest.\n",
      "\n",
      "1. inside a forest\n"
     ]
    },
    {
     "name": "stdin",
     "output_type": "stream",
     "text": [
      "You have three options: choose a number, write your text, or press Enter to exit:  I need to find main hidden facts in the ancient lighthouse.\n"
     ]
    },
    {
     "name": "stdout",
     "output_type": "stream",
     "text": [
      "Chapter: chapter # 1 -Result_one\n",
      "As I step into the forest, I notice the dense foliage and the faint scent of damp earth. The canopy above filters the sunlight, casting dappled shadows on the forest floor. I can hear the chirping of birds and the rustling of leaves in the gentle breeze.\n",
      "\n",
      "To reach the ancient lighthouse, I follow a winding path that leads me through the forest. As I walk, I notice that the trees around me are becoming increasingly twisted and gnarled, their trunks thick with age. The air grows thick with an eerie, mystical energy.\n",
      "\n",
      "After about 20 minutes of walking, the trees part, and I catch sight of the ancient lighthouse in the distance. It rises like a sentinel from the forest floor, its stone walls worn and weathered. The lighthouse appears to be covered in vines and moss, with ivy crawling up its sides like skeletal fingers.\n",
      "\n",
      "As I approach the lighthouse, I notice several hidden facts:\n",
      "\n",
      "1. **Invisible Entrance**: The main entrance to the lighthouse is cleverly concealed behind a thick curtain of foliage. The door is seamlessly integrated into the stone wall, making it nearly invisible to the naked eye.\n",
      "2. **Symbolic Carvings**: The stone walls of the lighthouse feature intricate carvings of ancient symbols, which appear to be a mix of mystical and astronomical symbols. These carvings may hold the key to unlocking the secrets of the lighthouse.\n",
      "3. **Hidden Windows**: As I circle the lighthouse, I notice that the windows are not visible from the outside. However, upon closer inspection, I discover that the windows are actually hidden behind cleverly designed stone shutters, which can be opened to reveal stunning views of the surrounding forest.\n",
      "4. **Ancient Mechanisms**: The lighthouse appears to contain ancient mechanical devices, such as clockwork gears and pendulums, which are cleverly hidden within the structure. These mechanisms may be connected to the lighthouse's mysterious energy.\n"
     ]
    },
    {
     "name": "stdin",
     "output_type": "stream",
     "text": [
      "You have three options: choose a number, write your text, or press Enter to exit:  Who built this lighthouse for what purpose?\n"
     ]
    },
    {
     "name": "stdout",
     "output_type": "stream",
     "text": [
      "Chapter: chapter # 1 -Result_one -Result_one\n",
      "The ancient lighthouse is a fascinating and mysterious structure, full of hidden secrets and intriguing features. Based on the observations you've made, it's possible to infer that the lighthouse was built by a group of individuals with a deep understanding of mysticism, astronomy, and engineering.\n",
      "\n",
      "The presence of symbolic carvings on the stone walls suggests that the builders of the lighthouse were interested in conveying a message or encoding knowledge into the structure. These carvings may be a form of arcane script, holding the key to unlocking the secrets of the lighthouse and potentially revealing the purpose for which it was built.\n",
      "\n",
      "The use of intricate mechanisms, such as clockwork gears and pendulums, implies that the lighthouse was designed to perform a specific function, possibly related to timekeeping, astronomy, or the harnessing of mystical energy. The fact that these mechanisms are cleverly hidden within the structure suggests that the builders wanted to keep their purpose and operation secret.\n",
      "\n",
      "Given the lighthouse's location in the heart of the forest, it's possible that it was built as a beacon for spiritual or mystical pursuits. The eerie, mystical energy that permeates the air around the lighthouse could be a result of its design and the intentions of its builders.\n",
      "\n",
      "One possible theory is that the lighthouse was built by a secret society or a group of mystics who sought to create a structure that would facilitate communication with other realms or dimensions. The invisible entrance, hidden windows, and ancient mechanisms could all be part of a larger system designed to amplify and focus mystical energy.\n",
      "\n",
      "Another theory is that the lighthouse was built as an astronomical observatory, with the symbolic carvings and mechanisms working together to track celestial events and align the structure with specific celestial bodies. The hidden windows could be designed to provide views of specific constellations or astronomical phenomena.\n",
      "\n",
      "Ultimately, the true purpose and meaning of the ancient lighthouse remain a mystery, waiting to be uncovered by someone with the knowledge and determination to decipher its secrets. As\n"
     ]
    },
    {
     "name": "stdin",
     "output_type": "stream",
     "text": [
      "You have three options: choose a number, write your text, or press Enter to exit:  I am interested in opening the hidden power located in this area. \n"
     ]
    },
    {
     "name": "stdout",
     "output_type": "stream",
     "text": [
      "Chapter: chapter # 1 -Result_one -Result_one -Result_one\n",
      "The ancient lighthouse is indeed a fascinating and enigmatic structure, full of secrets waiting to be uncovered. Based on the observations and theories you've presented, it's clear that the lighthouse holds a significant amount of mystical and astronomical knowledge.\n",
      "\n",
      "To unlock the hidden power located in this area, we need to delve deeper into the mysteries of the lighthouse. Here's a possible approach:\n",
      "\n",
      "1. **Decipher the symbolic carvings**: We need to study the carvings on the stone walls and attempt to understand their meaning. This could involve researching ancient languages, symbolism, and mysticism. Perhaps the carvings hold a hidden code or message that, when decoded, will reveal the purpose of the lighthouse.\n",
      "2. **Understand the mechanisms**: We should investigate the intricate mechanisms, such as clockwork gears and pendulums, to understand their function and how they relate to the overall purpose of the lighthouse. This might involve reverse-engineering the mechanisms or researching similar devices from the same time period.\n",
      "3. **Explore the hidden windows and entrance**: The invisible entrance and hidden windows could be crucial to unlocking the secrets of the lighthouse. We may need to use specialized equipment or techniques to detect and explore these hidden features.\n",
      "4. **Analyze the mystical energy**: The eerie, mystical energy surrounding the lighthouse could be a key to understanding its purpose. We might need to use equipment to measure and analyze this energy, or perhaps consult with experts in mysticism or the paranormal.\n",
      "5. **Research the history and context**: To better understand the lighthouse, we should research its history, the culture and society that built it, and the context in which it was constructed. This could involve studying ancient texts, talking to local experts, or conducting archaeological research.\n",
      "\n",
      "By following this approach, we may be able to uncover the secrets of the ancient lighthouse and unlock the hidden power located in this area. However, we must be cautious and respectful of the knowledge and energy that\n"
     ]
    },
    {
     "name": "stdin",
     "output_type": "stream",
     "text": [
      "You have three options: choose a number, write your text, or press Enter to exit:  \n"
     ]
    },
    {
     "name": "stdout",
     "output_type": "stream",
     "text": [
      "Ending the story.\n"
     ]
    }
   ],
   "source": [
    "if __name__ == '__main__':\n",
    "    event_one = story.put_event(chapter = 'Forest',\n",
    "                                content = 'When you enter a forest at sunset time, you can see leaves gleaming. Other times, you see bright.')\n",
    "    event_two = story.put_event(chapter = 'Forest',\n",
    "                                content = 'You will have different paths: one goes in dense with less fog, another goes with trial, shadowy fog, and third goes less fog, a heavy mist.')\n",
    "    \n",
    "    # Join both events \n",
    "    story.story_block_connect(event_one.story_id, 'choose a path', event_two.story_id)\n",
    "    # Run the user-driven story\n",
    "    user_driven_story(story)"
   ]
  },
  {
   "cell_type": "code",
   "execution_count": null,
   "id": "119b2fc5-479c-4e2d-8f56-2755428e7c55",
   "metadata": {},
   "outputs": [],
   "source": []
  },
  {
   "cell_type": "markdown",
   "id": "c5442354-1428-41d3-844f-f15ba0a97169",
   "metadata": {},
   "source": [
    "### Iteration and refinement: a. Refine your inputs for clarity and consistency"
   ]
  },
  {
   "cell_type": "code",
   "execution_count": null,
   "id": "9585a765-95a3-4a6a-a948-d66cce00ab2e",
   "metadata": {},
   "outputs": [],
   "source": []
  },
  {
   "cell_type": "code",
   "execution_count": 106,
   "id": "b6208465-87df-41c6-b2d8-9eb401abd62c",
   "metadata": {},
   "outputs": [
    {
     "name": "stdout",
     "output_type": "stream",
     "text": [
      "input text to Groq’s LLM:\n",
      " While walking in the desert, the sun burns our head when we are closer to ancient stone pillars. Symbols show the heat shifting.\n",
      "    It is amazing experience for everyone.\n",
      "\n",
      "text after refinement:\n",
      " As we trekked through the scorching desert landscape, the blistering sun beat down on us, its intense rays scorching our skin. But it was the ancient stone pillars that stood before us, their weathered facades bearing testament to the region's rich history, that drew our attention. As we drew closer, the shifting patterns of light and shadow danced across their surfaces, etching a mesmerizing display of symbols that seemed to pulsate with an otherworldly energy.\n",
      "\n",
      "It was an experience that left us all awestruck, a breathtaking encounter with the remnants of a bygone era that seemed to hold secrets and stories waiting to be unearthed. The desert's unforgiving environment, once a formidable barrier to exploration, had instead revealed a hidden treasure trove of ancient wisdom and mystique, beckoning us to delve deeper into its mysteries and unravel the enigmas that surrounded us.\n"
     ]
    }
   ],
   "source": [
    "# iterate and refine story text \n",
    "\n",
    "# define iteration and refinement function\n",
    "\n",
    "def groq_refinement(self, text: str) -> str:\n",
    "    '''\n",
    "    Using Groq for text refinement and improving participant questions.\n",
    "    Give text to Groq’s LLM, and then expect more readable text\n",
    "    \n",
    "    '''\n",
    "    # Launch Groq  participant\n",
    "    participant = Groq(api_key=os.getenv('GROQ_API_KEY'))\n",
    "\n",
    "    # choose a Model for text analysis\n",
    "    text_model_key = 'llama-3.1-8b-instant'\n",
    "\n",
    "    # Generate refined text\n",
    "    # give a prompt to the model and receive clean text.\n",
    "    text_chat = participant.chat.completions.create(\n",
    "        model=text_model_key,\n",
    "        messages=[\n",
    "            {'role': 'system', 'content': 'You are an AI assistant. Give me this story as human readable.'},    # for AI system\n",
    "            {'role': 'user', 'content': f'Please rewrite this story in a better way: {text}'},                  # user like me\n",
    "        ],\n",
    "        temperature=0.7,              # choose 0 to 1 for creativity. \n",
    "        max_tokens=400                # choose the length of your results.\n",
    "    )\n",
    "    \n",
    "    # use the model to get clean text.\n",
    "    refine_inputs = text_chat.choices[0].message.content.strip()\n",
    "    return refine_inputs\n",
    "\n",
    "\n",
    "if __name__ == '__main__':\n",
    "     # Connect with Story instance\n",
    "    class Story:\n",
    "        pass\n",
    "\n",
    "    story = Story()\n",
    "    \n",
    "    # Attach groq_refinement method\n",
    "    story.refinement = groq_refinement.__get__(story)\n",
    "\n",
    "    # write a text for refinement\n",
    "\n",
    "    example_text = '''\n",
    "    While walking in the desert, the sun burns our head when we are closer to ancient stone pillars. Symbols show the heat shifting.\n",
    "    It is amazing experience for everyone.\n",
    "    '''\n",
    "    \n",
    "    print(\"input text to Groq’s LLM:\\n\", example_text.strip())\n",
    "    print()\n",
    "    \n",
    "\n",
    "    text_after_refinement = story.refinement(example_text)\n",
    "    print(\"text after refinement:\\n\", text_after_refinement)\n"
   ]
  },
  {
   "cell_type": "code",
   "execution_count": null,
   "id": "b4024210-8ed1-4ba6-b6d0-0761c58b764f",
   "metadata": {},
   "outputs": [],
   "source": []
  },
  {
   "cell_type": "markdown",
   "id": "fd06774d-04c1-498f-86f8-9c40c1ed1192",
   "metadata": {},
   "source": [
    "### Conclusion: a. Guide towards a satisfying conclusion as the story progresses b. Determine if the adventure will reach an endpoint or be left open ended for future continuatio"
   ]
  },
  {
   "cell_type": "code",
   "execution_count": null,
   "id": "83433cc2-b95f-4174-a81d-aa63f71a3a7f",
   "metadata": {},
   "outputs": [],
   "source": []
  },
  {
   "cell_type": "code",
   "execution_count": 108,
   "id": "5981fc4f-6ae0-4478-973b-fb81e898c9df",
   "metadata": {},
   "outputs": [
    {
     "name": "stdout",
     "output_type": "stream",
     "text": [
      "groq_conclusion_check_function:\n",
      " **Story Review**\n",
      "\n",
      "Your story has a promising start, with a clear setting and an intriguing plot element - the crystal with unusual light. The idea of a magical trail and a final magical forest protector creates a sense of anticipation and adventure.\n",
      "\n",
      "**Projected Outcomes:**\n",
      "\n",
      "Based on your story, I expect the following outcomes:\n",
      "\n",
      "1. **Discovery of the crystal's significance**: The protagonist will learn more about the crystal, its origin, and its purpose.\n",
      "2. **Confrontation with the forest protector**: The protagonist will encounter the forest protector, leading to a challenge or a test of their worthiness to possess the crystal.\n",
      "3. **Revelation of the forest's secrets**: As the protagonist moves closer to the crystal, they will uncover the secrets of the forest, including its supernatural forces and the source of its magic.\n",
      "\n",
      "**Current Story Status:**\n",
      "\n",
      "Your story has met some of my expected goals, but there is still room for development. The introduction of the crystal and the magical forest protector has created a sense of wonder, but the story needs to progress further to fulfill the projected outcomes.\n",
      "\n",
      "**Action:**\n",
      "\n",
      "I will not close your story yet, as there are still many opportunities to explore the world you've created. Instead, I'll **open it for an upcoming conversation**.\n",
      "\n",
      "**Upcoming Section:**\n",
      "\n",
      "To continue your story, you could explore the following directions:\n",
      "\n",
      "1. Describe the protagonist's encounter with the forest protector in more detail.\n",
      "2. Reveal the crystal's significance and its connection to the forest's magic.\n",
      "3. Introduce challenges or obstacles that the protagonist must overcome to reach the crystal.\n",
      "\n",
      "Feel free to add the next section to your story, and I'll be happy to review it again and provide feedback.\n"
     ]
    }
   ],
   "source": [
    "\n",
    "def groq_conclusion(story_text: str) -> str:\n",
    "    '''\n",
    "     If the goal-oriented model isn’t usable, this function goes into another available chat (text) model.\n",
    "    '''\n",
    "    # Set up the Groq client\n",
    "    groq_client = Groq(api_key=os.getenv('GROQ_API_KEY'))\n",
    "\n",
    "    # find all models and then take those models used only for chat conversation.\n",
    "    try:\n",
    "        # model_one.id gives the id for the model. For example, \"llama3-8b-8192\". \n",
    "        all_models = [model_one.id for model_one in groq_client.models.list().data]\n",
    "        \n",
    "        # collect all models with starting ids from ‘llama’ used for chat conversations.\n",
    "        eligible_text_models = [model_one for model_one in all_models if model_one.startswith('llama')]\n",
    "        \n",
    "        if not eligible_text_models:\n",
    "            raise ValueError('No models are available for chat conversations.')\n",
    "        selected_model = 'llama3-8b-8192' if 'llama3-8b-8192' in eligible_text_models else eligible_text_models[0]\n",
    "    except Exception:\n",
    "        selected_model = 'llama3-8b-8192'\n",
    "\n",
    "    #  Making a story prompt for the talented AI engineer.\n",
    "    # use {story_text} as a placeholder for my story. \n",
    "    prompt  = (\n",
    "        'You are an AI programmer having story crafting skills.'\n",
    "        'Please review my story and take action on whether it holds projected outcomes.'\n",
    "        'If my story meets your expected goals, please close my story, but not fulfilling your expectations, please open for Upcoming conversation. \\n'\n",
    "        f'Ongoing events:\\n{story_text}\\n'\n",
    "        'Please provide me upcoming section for summary or give me an opportunity for tomorrow.'\n",
    "    )\n",
    "\n",
    "    # take agent prompt for one time chat.\n",
    "    ai_assistant_reply  =  groq_client.chat.completions.create( model=selected_model, messages = [{'role': 'user', 'content': prompt}],\n",
    "        temperature = 0.85, max_tokens = 600,)\n",
    "\n",
    "    return ai_assistant_reply.choices[0].message.content.strip()\n",
    "\n",
    "\n",
    "# check: Whether the  groq_conclusion function works or not\n",
    "\n",
    "groq_conclusion_check = '''\n",
    "You walk into the forest and then discover a crystal giving unusual light.After a long walk through magical trail, you encounter final \n",
    "magical forest protector.  The forest looks like alive with supernatural force when you move toward the crystal.\n",
    "\n",
    "'''\n",
    "\n",
    "groq_conclusion_check_function = groq_conclusion(groq_conclusion_check)\n",
    "\n",
    "print('groq_conclusion_check_function:\\n', groq_conclusion_check_function)\n"
   ]
  },
  {
   "cell_type": "code",
   "execution_count": null,
   "id": "3124c019-6369-451e-a8c2-c3de83dcb069",
   "metadata": {},
   "outputs": [],
   "source": []
  },
  {
   "cell_type": "markdown",
   "id": "bbe39b4d-cfa7-4aa9-b27e-d89eaef197df",
   "metadata": {},
   "source": [
    "### Showcase the story "
   ]
  },
  {
   "cell_type": "code",
   "execution_count": null,
   "id": "83439c93-ac03-4635-abc5-486322f642e6",
   "metadata": {},
   "outputs": [],
   "source": []
  },
  {
   "cell_type": "code",
   "execution_count": 111,
   "id": "dff443bf-f9a9-411e-8cb5-cd872ed9ea3b",
   "metadata": {},
   "outputs": [],
   "source": [
    "def showcase_share_story(self, file='generative_AI_story'):\n",
    "    '''\n",
    "    Using Artificial intelligence (AI), a story is created. All chapters in this story are extracted into the text format. \n",
    "    '''\n",
    "    # store all necessary pieces of information collected from AI in the 'sequences'. \n",
    "    ai_store = []\n",
    "    \n",
    "    # using for loop, go through each chapter\n",
    "    for number, element in self.events.items():\n",
    "        \n",
    "        # First, collect chapter topic and content from each element and then put them into the ai_store. \n",
    "        ai_store.append(f\"Chapter: {element ['chapter']}\\n{element ['content']}\")\n",
    "        print()\n",
    "        \n",
    "        # Do connection from one chapter to another\n",
    "        if  number in self.connections:\n",
    "            # use for loop to go into each option and corresponding another chapter for chapters connections.\n",
    "            for pick, another_number in self.connections[number].items():\n",
    "                    ai_store.append(f\"Pick: {pick} another: {self.events[ another_number]['chapte+r']}\") \n",
    "    print()\n",
    "\n",
    "    # join all pieces stored in ai_store.\n",
    "    final_document = '\\n'.join(ai_store)\n",
    "    \n",
    "    # Save the final_document into .txt format permanently. \n",
    "    \n",
    "    # state the final file in .txt format.\n",
    "    final_text = f'{ file}.txt'\n",
    "    \n",
    "    with open(final_text, 'w', encoding='utf-8') as text_final:\n",
    "        text_final.write(final_document)\n",
    "    print('stored file:', os.path.join(os.getcwd(),final_text))\n"
   ]
  },
  {
   "cell_type": "code",
   "execution_count": null,
   "id": "847bfb6c-92bf-4928-bde2-90ad6456a27c",
   "metadata": {},
   "outputs": [],
   "source": []
  },
  {
   "cell_type": "code",
   "execution_count": 114,
   "id": "b7a4fa81-f969-4346-8f1c-28ee384f78a2",
   "metadata": {},
   "outputs": [
    {
     "name": "stdout",
     "output_type": "stream",
     "text": [
      "\n",
      "\n",
      "\n",
      "\n",
      "\n",
      "\n",
      "\n",
      "\n",
      "\n",
      "\n",
      "\n",
      "\n",
      "\n",
      "\n",
      "\n",
      "\n",
      "\n",
      "\n",
      "\n",
      "\n",
      "\n",
      "\n",
      "\n",
      "\n",
      "\n",
      "\n",
      "\n",
      "\n",
      "\n",
      "\n",
      "\n",
      "\n",
      "\n",
      "\n",
      "\n",
      "\n",
      "\n",
      "\n",
      "\n",
      "\n",
      "\n",
      "\n",
      "\n",
      "\n",
      "\n",
      "\n",
      "\n",
      "\n",
      "\n"
     ]
    }
   ],
   "source": [
    "# Where is the saved file?\n",
    "\n",
    "# print('check the saved file in the present directory:\\n', os.getcwd())    # take of '#' to see a list of files\n",
    "\n",
    "print(\"\\n\")\n",
    "\n",
    "# See a list of files in the current directory\n",
    "for file_text in os.listdir():\n",
    "    print(\"\\n\")\n",
    "    if file_text.endswith('.txt'):    # See only the text file. \n",
    "        print()          # replace with  print(file_text)\n",
    " "
   ]
  },
  {
   "cell_type": "code",
   "execution_count": 116,
   "id": "e572f60d-79cc-4c12-ba68-579347546e62",
   "metadata": {},
   "outputs": [],
   "source": [
    "# test this function (showcase_share_story(self, file='generative_AI_story') using human generated text\n",
    "\n",
    "class Story:\n",
    "    def __init__(self):\n",
    "        self.events = {\n",
    "            'event_one': {'chapter': 'start',\n",
    "                'content': 'You find a radiant forest which is enclosed by massive trees showing bright light'},\n",
    "            'event_two': {'chapter': 'choice of paths',\n",
    "                'content': 'The path is divided into two branches: one for bright light on the right and the other dark on the left'},\n",
    "            'event_three': {'chapter': 'finding',\n",
    "                'content': 'You encounter a mysterious lake reflecting bright light like small stars.'},\n",
    "            'event_four': {'chapter': 'towering oak',\n",
    "                'content': 'You see a massive ancient oak emitting mild luminescence.'},\n",
    "            'event_five': {'chapter': 'Treasure Cave',\n",
    "                'content': 'You find a Treasure Cave that pulses with a magical tone.'},\n",
    "            'event_six': {'chapter': 'Forest Keeper',\n",
    "                'content': 'A Forest Keeper shows up natural power with obstructing route in front.'}}\n",
    "\n",
    "        self.connections = {'event_one': {'event_one_two': 'event_two', 'event_one_four': 'event_four'},\n",
    "            'event_two': {'event_two_three': 'event_three', 'event_two_four': 'event_four'},\n",
    "            'event_three': {'event_three_five': 'event_five'},\n",
    "            'event_four': {'event_four_five': 'event_five'},\n",
    "            'event_five': {'event_five_six': 'event_six'}}\n"
   ]
  },
  {
   "cell_type": "code",
   "execution_count": 118,
   "id": "1a5bf09f-dfae-4dd6-b5e0-676fa243b0af",
   "metadata": {},
   "outputs": [],
   "source": [
    "# take the Story() function\n",
    "story = Story()\n",
    "story.showcase_share_story = showcase_share_story.__get__(story)\n",
    "#story.showcase_share_story ('enchanted_forest_adventure')   # take off # to see this file  # I found this file in my CWD."
   ]
  },
  {
   "cell_type": "code",
   "execution_count": null,
   "id": "5f714144-3962-4daa-a8c0-a7838f871b10",
   "metadata": {},
   "outputs": [],
   "source": []
  },
  {
   "cell_type": "code",
   "execution_count": 121,
   "id": "1754a1bb-3991-4b0d-9409-5cf2e568bdf5",
   "metadata": {},
   "outputs": [
    {
     "name": "stdout",
     "output_type": "stream",
     "text": [
      "Chapter: start\n",
      "You find a radiant forest which is enclosed by massive trees showing bright light\n",
      "Pick: event_one_two another: choice of paths\n",
      "Pick: event_one_four another: towering oak\n",
      "Chapter: choice of paths\n",
      "The path is divided into two branches: one for bright light on the right and the other dark on the left\n",
      "Pick: event_two_three another: finding\n",
      "Pick: event_two_four another: towering oak\n",
      "Chapter: finding\n",
      "You encounter a mysterious lake reflecting bright light like small stars.\n",
      "Pick: event_three_five another: Treasure Cave\n",
      "Chapter: towering oak\n",
      "You see a massive ancient oak emitting mild luminescence.\n",
      "Pick: event_four_five another: Treasure Cave\n",
      "Chapter: Treasure Cave\n",
      "You find a Treasure Cave that pulses with a magical tone.\n",
      "Pick: event_five_six another: Forest Keeper\n",
      "Chapter: Forest Keeper\n",
      "A Forest Keeper shows up natural power with \n"
     ]
    }
   ],
   "source": [
    "# Is there any text in \"enchanted_forest_adventure.txt\"? If not sure, we can use code below to open and read this text file.\n",
    "\n",
    "\n",
    "with open('enchanted_forest_adventure.txt', 'r', encoding='utf-8') as final_txt:   # 'r' reflects read mode\n",
    "    print(final_txt.read()[:850])  #  look at up to 850 characters\n",
    "\n"
   ]
  },
  {
   "cell_type": "code",
   "execution_count": null,
   "id": "d225677c-9fee-4fe9-9d94-67d6b5900f0d",
   "metadata": {},
   "outputs": [],
   "source": []
  },
  {
   "cell_type": "code",
   "execution_count": null,
   "id": "9c1101db-1395-4e2c-be79-256003282018",
   "metadata": {},
   "outputs": [],
   "source": [
    "\"\"\"\n",
    "Project Conclusion:\n",
    "\n",
    "In this project, I clearly created an interactive storytelling adventure using Generative AI. I also design a system for taking user inputs and\n",
    "then giving appropriate outputs using Groq LLM. This system is usable in various fields such as storytelling tools under AI-supported, real time\n",
    "class dialogue design, engaging discussion systems, and so on. The project clearly demonstrates my key skills in Python built \n",
    "on workflow design | LLM incorporation | NLP | prompt engineering | AI-based text production.  \n",
    "\n",
    "\"\"\""
   ]
  },
  {
   "cell_type": "code",
   "execution_count": null,
   "id": "5d973f50-639d-4eb3-a988-80deeaefc7ea",
   "metadata": {},
   "outputs": [],
   "source": []
  }
 ],
 "metadata": {
  "kernelspec": {
   "display_name": "Python [conda env:base] *",
   "language": "python",
   "name": "conda-base-py"
  },
  "language_info": {
   "codemirror_mode": {
    "name": "ipython",
    "version": 3
   },
   "file_extension": ".py",
   "mimetype": "text/x-python",
   "name": "python",
   "nbconvert_exporter": "python",
   "pygments_lexer": "ipython3",
   "version": "3.12.7"
  }
 },
 "nbformat": 4,
 "nbformat_minor": 5
}
